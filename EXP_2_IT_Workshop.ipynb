{
  "nbformat": 4,
  "nbformat_minor": 0,
  "metadata": {
    "colab": {
      "name": "EXP_2_IT_Workshop.ipynb",
      "provenance": [],
      "collapsed_sections": [],
      "include_colab_link": true
    },
    "kernelspec": {
      "display_name": "Python 3",
      "language": "python",
      "name": "python3"
    },
    "language_info": {
      "codemirror_mode": {
        "name": "ipython",
        "version": 3
      },
      "file_extension": ".py",
      "mimetype": "text/x-python",
      "name": "python",
      "nbconvert_exporter": "python",
      "pygments_lexer": "ipython3",
      "version": "3.7.4"
    }
  },
  "cells": [
    {
      "cell_type": "markdown",
      "metadata": {
        "id": "view-in-github",
        "colab_type": "text"
      },
      "source": [
        "<a href=\"https://colab.research.google.com/github/subhasiz/python/blob/master/EXP_2_IT_Workshop.ipynb\" target=\"_parent\"><img src=\"https://colab.research.google.com/assets/colab-badge.svg\" alt=\"Open In Colab\"/></a>"
      ]
    },
    {
      "cell_type": "markdown",
      "metadata": {
        "colab_type": "text",
        "id": "LzWBFP07_fkv"
      },
      "source": [
        "# EXPERIMENT 2 - Implement a queue\n",
        "\n",
        "A Queue is a linear structure which follows a particular order in which the operations are performed. The order is First In First Out (FIFO). A good example of a queue is any queue of consumers for a resource where the consumer that came first is served first. The difference between stacks and queues is in removing. In a stack we remove the item the most recently added; in a queue, we remove the item the least recently added.\n",
        "\n",
        "![Queue](https://www.techgig.com/files/nicUploads/215415368052929.png)\n",
        "\n",
        "In this experiment, you will create a queue in Python using an array. You will create four functions in order to carry out the following queue operations -\n",
        "*   enqueue - Insert item into queue\n",
        "*   dequeue - Remove item from queue\n",
        "*   find - Search for an item in the queue\n",
        "*   delete - Search for an item and delete it from queue\n",
        "\n",
        "\n"
      ]
    },
    {
      "cell_type": "code",
      "metadata": {
        "colab_type": "code",
        "id": "pBAhTRMRBSsZ",
        "colab": {}
      },
      "source": [
        "queue = []\n",
        "\n",
        "def enqueue(item):\n",
        "  # This will insert 'item' into the queue\n",
        "  queue.append(item)\n",
        "  print(item, \"is added to queue\")\n",
        "\n",
        "def dequeue():\n",
        "  # This will remove an item from the queue\n",
        "  # and return the removed item\n",
        "  try:\n",
        "    return(queue.pop(-1))\n",
        "  except:\n",
        "    print(\"Queue Underflow\")\n",
        "\n",
        "def find(item):\n",
        "  # This will search for 'item' in the queue\n",
        "  # and return its index (if found)\n",
        "  # otherwise return -1\n",
        "  if item in queue:\n",
        "    return(queue.index(item))\n",
        "  else:\n",
        "    return -1\n",
        "def delete(item):\n",
        "  # This will search for 'item' in the queue\n",
        "  # and delete it from the queue (if found)\n",
        "  # Return True if successful, False otherwise.\n",
        "  if item in queue:\n",
        "    queue.remove(item)\n",
        "    return True\n",
        "  else:\n",
        "    return False"
      ],
      "execution_count": 1,
      "outputs": []
    },
    {
      "cell_type": "markdown",
      "metadata": {
        "colab_type": "text",
        "id": "TA4OKyBwCX5c"
      },
      "source": [
        "**Testing the queue**"
      ]
    },
    {
      "cell_type": "code",
      "metadata": {
        "colab_type": "code",
        "id": "ubtXxA5lCbmp",
        "colab": {
          "base_uri": "https://localhost:8080/",
          "height": 187
        },
        "outputId": "43730ae0-a3e6-4d03-aa51-877d69e3c1b0"
      },
      "source": [
        "enqueue(1)\n",
        "enqueue(2)\n",
        "enqueue(3)\n",
        "enqueue(4)\n",
        "print(\"Original Queue: \",queue)\n",
        "removed = dequeue()\n",
        "print(\"Removed: \",removed)\n",
        "print(\"Queue after dequeue: \",queue)\n",
        "print(\"Find '2': \",find(2))\n",
        "print(\"Find '3': \",find(3))\n",
        "delete(4)\n",
        "print(\"Queue after delete '4': \",queue)"
      ],
      "execution_count": 2,
      "outputs": [
        {
          "output_type": "stream",
          "text": [
            "1 is added to queue\n",
            "2 is added to queue\n",
            "3 is added to queue\n",
            "4 is added to queue\n",
            "Original Queue:  [1, 2, 3, 4]\n",
            "Removed:  4\n",
            "Queue after dequeue:  [1, 2, 3]\n",
            "Find '2':  1\n",
            "Find '3':  2\n",
            "Queue after delete '4':  [1, 2, 3]\n"
          ],
          "name": "stdout"
        }
      ]
    },
    {
      "cell_type": "code",
      "metadata": {
        "colab_type": "code",
        "id": "SlzHx06jOidI",
        "colab": {}
      },
      "source": [
        ""
      ],
      "execution_count": null,
      "outputs": []
    }
  ]
}