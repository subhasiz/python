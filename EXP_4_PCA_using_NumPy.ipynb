{
  "nbformat": 4,
  "nbformat_minor": 0,
  "metadata": {
    "colab": {
      "name": "EXP_4_PCA_using_NumPy.ipynb",
      "provenance": [],
      "collapsed_sections": [],
      "toc_visible": true,
      "include_colab_link": true
    },
    "kernelspec": {
      "display_name": "Python 3",
      "language": "python",
      "name": "python3"
    },
    "language_info": {
      "codemirror_mode": {
        "name": "ipython",
        "version": 3
      },
      "file_extension": ".py",
      "mimetype": "text/x-python",
      "name": "python",
      "nbconvert_exporter": "python",
      "pygments_lexer": "ipython3",
      "version": "3.7.4"
    }
  },
  "cells": [
    {
      "cell_type": "markdown",
      "metadata": {
        "id": "view-in-github",
        "colab_type": "text"
      },
      "source": [
        "<a href=\"https://colab.research.google.com/github/subhasiz/python/blob/master/EXP_4_PCA_using_NumPy.ipynb\" target=\"_parent\"><img src=\"https://colab.research.google.com/assets/colab-badge.svg\" alt=\"Open In Colab\"/></a>"
      ]
    },
    {
      "cell_type": "markdown",
      "metadata": {
        "colab_type": "text",
        "id": "trubmXo4IOSE"
      },
      "source": [
        "#Read file to numpy\n",
        "\n",
        "Download the Iris dataset [here](https://gist.githubusercontent.com/netj/8836201/raw/6f9306ad21398ea43cba4f7d537619d0e07d5ae3/iris.csv) that we already analyzed in ```EXP 1``` and upload the file to your local filesystem. (In case you are using Google Collaboratory, click the file icon on the left sidebar, and upload there.)\n",
        "\n",
        "The following lines of code will read the ```iris.csv``` file into a Numpy ndarray called ```data```."
      ]
    },
    {
      "cell_type": "code",
      "metadata": {
        "colab_type": "code",
        "id": "BuS-ktvEJe4j",
        "colab": {}
      },
      "source": [
        "import numpy as np\n",
        "data = np.genfromtxt(\"iris.csv\",delimiter=',')"
      ],
      "execution_count": null,
      "outputs": []
    },
    {
      "cell_type": "markdown",
      "metadata": {
        "colab_type": "text",
        "id": "onWn4kY6J1rw"
      },
      "source": [
        "Look at its ```shape``` of the ```ndarray``` and observe its entries.\n",
        "\n",
        "Clearly all the entries of the first row, and the entries of the last column are not numerical values (The first row describes the column, and the last column in all the other rows specifies the name of the species of flowers - these are all alphanumeric strings). Those are not of any interest to us in this experiment."
      ]
    },
    {
      "cell_type": "code",
      "metadata": {
        "colab_type": "code",
        "id": "mkCsaB-4J-_o",
        "colab": {
          "base_uri": "https://localhost:8080/",
          "height": 1000
        },
        "outputId": "18ede7b9-90fb-4c70-d03f-ab7e3f2040c8"
      },
      "source": [
        "print(\"Shape of data:\",data.shape)\n",
        "print(data)"
      ],
      "execution_count": null,
      "outputs": [
        {
          "output_type": "stream",
          "text": [
            "Shape of data: (151, 5)\n",
            "[[nan nan nan nan nan]\n",
            " [5.1 3.5 1.4 0.2 nan]\n",
            " [4.9 3.  1.4 0.2 nan]\n",
            " [4.7 3.2 1.3 0.2 nan]\n",
            " [4.6 3.1 1.5 0.2 nan]\n",
            " [5.  3.6 1.4 0.2 nan]\n",
            " [5.4 3.9 1.7 0.4 nan]\n",
            " [4.6 3.4 1.4 0.3 nan]\n",
            " [5.  3.4 1.5 0.2 nan]\n",
            " [4.4 2.9 1.4 0.2 nan]\n",
            " [4.9 3.1 1.5 0.1 nan]\n",
            " [5.4 3.7 1.5 0.2 nan]\n",
            " [4.8 3.4 1.6 0.2 nan]\n",
            " [4.8 3.  1.4 0.1 nan]\n",
            " [4.3 3.  1.1 0.1 nan]\n",
            " [5.8 4.  1.2 0.2 nan]\n",
            " [5.7 4.4 1.5 0.4 nan]\n",
            " [5.4 3.9 1.3 0.4 nan]\n",
            " [5.1 3.5 1.4 0.3 nan]\n",
            " [5.7 3.8 1.7 0.3 nan]\n",
            " [5.1 3.8 1.5 0.3 nan]\n",
            " [5.4 3.4 1.7 0.2 nan]\n",
            " [5.1 3.7 1.5 0.4 nan]\n",
            " [4.6 3.6 1.  0.2 nan]\n",
            " [5.1 3.3 1.7 0.5 nan]\n",
            " [4.8 3.4 1.9 0.2 nan]\n",
            " [5.  3.  1.6 0.2 nan]\n",
            " [5.  3.4 1.6 0.4 nan]\n",
            " [5.2 3.5 1.5 0.2 nan]\n",
            " [5.2 3.4 1.4 0.2 nan]\n",
            " [4.7 3.2 1.6 0.2 nan]\n",
            " [4.8 3.1 1.6 0.2 nan]\n",
            " [5.4 3.4 1.5 0.4 nan]\n",
            " [5.2 4.1 1.5 0.1 nan]\n",
            " [5.5 4.2 1.4 0.2 nan]\n",
            " [4.9 3.1 1.5 0.2 nan]\n",
            " [5.  3.2 1.2 0.2 nan]\n",
            " [5.5 3.5 1.3 0.2 nan]\n",
            " [4.9 3.6 1.4 0.1 nan]\n",
            " [4.4 3.  1.3 0.2 nan]\n",
            " [5.1 3.4 1.5 0.2 nan]\n",
            " [5.  3.5 1.3 0.3 nan]\n",
            " [4.5 2.3 1.3 0.3 nan]\n",
            " [4.4 3.2 1.3 0.2 nan]\n",
            " [5.  3.5 1.6 0.6 nan]\n",
            " [5.1 3.8 1.9 0.4 nan]\n",
            " [4.8 3.  1.4 0.3 nan]\n",
            " [5.1 3.8 1.6 0.2 nan]\n",
            " [4.6 3.2 1.4 0.2 nan]\n",
            " [5.3 3.7 1.5 0.2 nan]\n",
            " [5.  3.3 1.4 0.2 nan]\n",
            " [7.  3.2 4.7 1.4 nan]\n",
            " [6.4 3.2 4.5 1.5 nan]\n",
            " [6.9 3.1 4.9 1.5 nan]\n",
            " [5.5 2.3 4.  1.3 nan]\n",
            " [6.5 2.8 4.6 1.5 nan]\n",
            " [5.7 2.8 4.5 1.3 nan]\n",
            " [6.3 3.3 4.7 1.6 nan]\n",
            " [4.9 2.4 3.3 1.  nan]\n",
            " [6.6 2.9 4.6 1.3 nan]\n",
            " [5.2 2.7 3.9 1.4 nan]\n",
            " [5.  2.  3.5 1.  nan]\n",
            " [5.9 3.  4.2 1.5 nan]\n",
            " [6.  2.2 4.  1.  nan]\n",
            " [6.1 2.9 4.7 1.4 nan]\n",
            " [5.6 2.9 3.6 1.3 nan]\n",
            " [6.7 3.1 4.4 1.4 nan]\n",
            " [5.6 3.  4.5 1.5 nan]\n",
            " [5.8 2.7 4.1 1.  nan]\n",
            " [6.2 2.2 4.5 1.5 nan]\n",
            " [5.6 2.5 3.9 1.1 nan]\n",
            " [5.9 3.2 4.8 1.8 nan]\n",
            " [6.1 2.8 4.  1.3 nan]\n",
            " [6.3 2.5 4.9 1.5 nan]\n",
            " [6.1 2.8 4.7 1.2 nan]\n",
            " [6.4 2.9 4.3 1.3 nan]\n",
            " [6.6 3.  4.4 1.4 nan]\n",
            " [6.8 2.8 4.8 1.4 nan]\n",
            " [6.7 3.  5.  1.7 nan]\n",
            " [6.  2.9 4.5 1.5 nan]\n",
            " [5.7 2.6 3.5 1.  nan]\n",
            " [5.5 2.4 3.8 1.1 nan]\n",
            " [5.5 2.4 3.7 1.  nan]\n",
            " [5.8 2.7 3.9 1.2 nan]\n",
            " [6.  2.7 5.1 1.6 nan]\n",
            " [5.4 3.  4.5 1.5 nan]\n",
            " [6.  3.4 4.5 1.6 nan]\n",
            " [6.7 3.1 4.7 1.5 nan]\n",
            " [6.3 2.3 4.4 1.3 nan]\n",
            " [5.6 3.  4.1 1.3 nan]\n",
            " [5.5 2.5 4.  1.3 nan]\n",
            " [5.5 2.6 4.4 1.2 nan]\n",
            " [6.1 3.  4.6 1.4 nan]\n",
            " [5.8 2.6 4.  1.2 nan]\n",
            " [5.  2.3 3.3 1.  nan]\n",
            " [5.6 2.7 4.2 1.3 nan]\n",
            " [5.7 3.  4.2 1.2 nan]\n",
            " [5.7 2.9 4.2 1.3 nan]\n",
            " [6.2 2.9 4.3 1.3 nan]\n",
            " [5.1 2.5 3.  1.1 nan]\n",
            " [5.7 2.8 4.1 1.3 nan]\n",
            " [6.3 3.3 6.  2.5 nan]\n",
            " [5.8 2.7 5.1 1.9 nan]\n",
            " [7.1 3.  5.9 2.1 nan]\n",
            " [6.3 2.9 5.6 1.8 nan]\n",
            " [6.5 3.  5.8 2.2 nan]\n",
            " [7.6 3.  6.6 2.1 nan]\n",
            " [4.9 2.5 4.5 1.7 nan]\n",
            " [7.3 2.9 6.3 1.8 nan]\n",
            " [6.7 2.5 5.8 1.8 nan]\n",
            " [7.2 3.6 6.1 2.5 nan]\n",
            " [6.5 3.2 5.1 2.  nan]\n",
            " [6.4 2.7 5.3 1.9 nan]\n",
            " [6.8 3.  5.5 2.1 nan]\n",
            " [5.7 2.5 5.  2.  nan]\n",
            " [5.8 2.8 5.1 2.4 nan]\n",
            " [6.4 3.2 5.3 2.3 nan]\n",
            " [6.5 3.  5.5 1.8 nan]\n",
            " [7.7 3.8 6.7 2.2 nan]\n",
            " [7.7 2.6 6.9 2.3 nan]\n",
            " [6.  2.2 5.  1.5 nan]\n",
            " [6.9 3.2 5.7 2.3 nan]\n",
            " [5.6 2.8 4.9 2.  nan]\n",
            " [7.7 2.8 6.7 2.  nan]\n",
            " [6.3 2.7 4.9 1.8 nan]\n",
            " [6.7 3.3 5.7 2.1 nan]\n",
            " [7.2 3.2 6.  1.8 nan]\n",
            " [6.2 2.8 4.8 1.8 nan]\n",
            " [6.1 3.  4.9 1.8 nan]\n",
            " [6.4 2.8 5.6 2.1 nan]\n",
            " [7.2 3.  5.8 1.6 nan]\n",
            " [7.4 2.8 6.1 1.9 nan]\n",
            " [7.9 3.8 6.4 2.  nan]\n",
            " [6.4 2.8 5.6 2.2 nan]\n",
            " [6.3 2.8 5.1 1.5 nan]\n",
            " [6.1 2.6 5.6 1.4 nan]\n",
            " [7.7 3.  6.1 2.3 nan]\n",
            " [6.3 3.4 5.6 2.4 nan]\n",
            " [6.4 3.1 5.5 1.8 nan]\n",
            " [6.  3.  4.8 1.8 nan]\n",
            " [6.9 3.1 5.4 2.1 nan]\n",
            " [6.7 3.1 5.6 2.4 nan]\n",
            " [6.9 3.1 5.1 2.3 nan]\n",
            " [5.8 2.7 5.1 1.9 nan]\n",
            " [6.8 3.2 5.9 2.3 nan]\n",
            " [6.7 3.3 5.7 2.5 nan]\n",
            " [6.7 3.  5.2 2.3 nan]\n",
            " [6.3 2.5 5.  1.9 nan]\n",
            " [6.5 3.  5.2 2.  nan]\n",
            " [6.2 3.4 5.4 2.3 nan]\n",
            " [5.9 3.  5.1 1.8 nan]]\n"
          ],
          "name": "stdout"
        }
      ]
    },
    {
      "cell_type": "markdown",
      "metadata": {
        "colab_type": "text",
        "id": "i_NHkDgcJ_WN"
      },
      "source": [
        "Slice the ```ndarray``` to exclude the first row and last column, i.e., take the first four columns from all the rows starting from the second row onwards."
      ]
    },
    {
      "cell_type": "code",
      "metadata": {
        "colab_type": "code",
        "id": "PfDqkBwsL_Ud",
        "colab": {}
      },
      "source": [
        "# Remove the entire 1st row; and\n",
        "# 5th column in all other rows\n",
        "data = np.delete(data,0,0)\n",
        "data = np.delete(data,4,1)\n"
      ],
      "execution_count": null,
      "outputs": []
    },
    {
      "cell_type": "markdown",
      "metadata": {
        "colab_type": "text",
        "id": "8kJnhELLM9Z3"
      },
      "source": [
        "Reprint the data to check if the array has been sliced as required.\n",
        "\n",
        "The shape should reflect the fact that one row and one column have been removed."
      ]
    },
    {
      "cell_type": "code",
      "metadata": {
        "colab_type": "code",
        "id": "3WQuv9mgNpW_",
        "colab": {
          "base_uri": "https://localhost:8080/",
          "height": 1000
        },
        "outputId": "712dd19c-b4d9-4329-aad8-f023d359de68"
      },
      "source": [
        "print(\"Shape of data:\",data.shape)\n",
        "print(data)"
      ],
      "execution_count": null,
      "outputs": [
        {
          "output_type": "stream",
          "text": [
            "Shape of data: (150, 4)\n",
            "[[5.1 3.5 1.4 0.2]\n",
            " [4.9 3.  1.4 0.2]\n",
            " [4.7 3.2 1.3 0.2]\n",
            " [4.6 3.1 1.5 0.2]\n",
            " [5.  3.6 1.4 0.2]\n",
            " [5.4 3.9 1.7 0.4]\n",
            " [4.6 3.4 1.4 0.3]\n",
            " [5.  3.4 1.5 0.2]\n",
            " [4.4 2.9 1.4 0.2]\n",
            " [4.9 3.1 1.5 0.1]\n",
            " [5.4 3.7 1.5 0.2]\n",
            " [4.8 3.4 1.6 0.2]\n",
            " [4.8 3.  1.4 0.1]\n",
            " [4.3 3.  1.1 0.1]\n",
            " [5.8 4.  1.2 0.2]\n",
            " [5.7 4.4 1.5 0.4]\n",
            " [5.4 3.9 1.3 0.4]\n",
            " [5.1 3.5 1.4 0.3]\n",
            " [5.7 3.8 1.7 0.3]\n",
            " [5.1 3.8 1.5 0.3]\n",
            " [5.4 3.4 1.7 0.2]\n",
            " [5.1 3.7 1.5 0.4]\n",
            " [4.6 3.6 1.  0.2]\n",
            " [5.1 3.3 1.7 0.5]\n",
            " [4.8 3.4 1.9 0.2]\n",
            " [5.  3.  1.6 0.2]\n",
            " [5.  3.4 1.6 0.4]\n",
            " [5.2 3.5 1.5 0.2]\n",
            " [5.2 3.4 1.4 0.2]\n",
            " [4.7 3.2 1.6 0.2]\n",
            " [4.8 3.1 1.6 0.2]\n",
            " [5.4 3.4 1.5 0.4]\n",
            " [5.2 4.1 1.5 0.1]\n",
            " [5.5 4.2 1.4 0.2]\n",
            " [4.9 3.1 1.5 0.2]\n",
            " [5.  3.2 1.2 0.2]\n",
            " [5.5 3.5 1.3 0.2]\n",
            " [4.9 3.6 1.4 0.1]\n",
            " [4.4 3.  1.3 0.2]\n",
            " [5.1 3.4 1.5 0.2]\n",
            " [5.  3.5 1.3 0.3]\n",
            " [4.5 2.3 1.3 0.3]\n",
            " [4.4 3.2 1.3 0.2]\n",
            " [5.  3.5 1.6 0.6]\n",
            " [5.1 3.8 1.9 0.4]\n",
            " [4.8 3.  1.4 0.3]\n",
            " [5.1 3.8 1.6 0.2]\n",
            " [4.6 3.2 1.4 0.2]\n",
            " [5.3 3.7 1.5 0.2]\n",
            " [5.  3.3 1.4 0.2]\n",
            " [7.  3.2 4.7 1.4]\n",
            " [6.4 3.2 4.5 1.5]\n",
            " [6.9 3.1 4.9 1.5]\n",
            " [5.5 2.3 4.  1.3]\n",
            " [6.5 2.8 4.6 1.5]\n",
            " [5.7 2.8 4.5 1.3]\n",
            " [6.3 3.3 4.7 1.6]\n",
            " [4.9 2.4 3.3 1. ]\n",
            " [6.6 2.9 4.6 1.3]\n",
            " [5.2 2.7 3.9 1.4]\n",
            " [5.  2.  3.5 1. ]\n",
            " [5.9 3.  4.2 1.5]\n",
            " [6.  2.2 4.  1. ]\n",
            " [6.1 2.9 4.7 1.4]\n",
            " [5.6 2.9 3.6 1.3]\n",
            " [6.7 3.1 4.4 1.4]\n",
            " [5.6 3.  4.5 1.5]\n",
            " [5.8 2.7 4.1 1. ]\n",
            " [6.2 2.2 4.5 1.5]\n",
            " [5.6 2.5 3.9 1.1]\n",
            " [5.9 3.2 4.8 1.8]\n",
            " [6.1 2.8 4.  1.3]\n",
            " [6.3 2.5 4.9 1.5]\n",
            " [6.1 2.8 4.7 1.2]\n",
            " [6.4 2.9 4.3 1.3]\n",
            " [6.6 3.  4.4 1.4]\n",
            " [6.8 2.8 4.8 1.4]\n",
            " [6.7 3.  5.  1.7]\n",
            " [6.  2.9 4.5 1.5]\n",
            " [5.7 2.6 3.5 1. ]\n",
            " [5.5 2.4 3.8 1.1]\n",
            " [5.5 2.4 3.7 1. ]\n",
            " [5.8 2.7 3.9 1.2]\n",
            " [6.  2.7 5.1 1.6]\n",
            " [5.4 3.  4.5 1.5]\n",
            " [6.  3.4 4.5 1.6]\n",
            " [6.7 3.1 4.7 1.5]\n",
            " [6.3 2.3 4.4 1.3]\n",
            " [5.6 3.  4.1 1.3]\n",
            " [5.5 2.5 4.  1.3]\n",
            " [5.5 2.6 4.4 1.2]\n",
            " [6.1 3.  4.6 1.4]\n",
            " [5.8 2.6 4.  1.2]\n",
            " [5.  2.3 3.3 1. ]\n",
            " [5.6 2.7 4.2 1.3]\n",
            " [5.7 3.  4.2 1.2]\n",
            " [5.7 2.9 4.2 1.3]\n",
            " [6.2 2.9 4.3 1.3]\n",
            " [5.1 2.5 3.  1.1]\n",
            " [5.7 2.8 4.1 1.3]\n",
            " [6.3 3.3 6.  2.5]\n",
            " [5.8 2.7 5.1 1.9]\n",
            " [7.1 3.  5.9 2.1]\n",
            " [6.3 2.9 5.6 1.8]\n",
            " [6.5 3.  5.8 2.2]\n",
            " [7.6 3.  6.6 2.1]\n",
            " [4.9 2.5 4.5 1.7]\n",
            " [7.3 2.9 6.3 1.8]\n",
            " [6.7 2.5 5.8 1.8]\n",
            " [7.2 3.6 6.1 2.5]\n",
            " [6.5 3.2 5.1 2. ]\n",
            " [6.4 2.7 5.3 1.9]\n",
            " [6.8 3.  5.5 2.1]\n",
            " [5.7 2.5 5.  2. ]\n",
            " [5.8 2.8 5.1 2.4]\n",
            " [6.4 3.2 5.3 2.3]\n",
            " [6.5 3.  5.5 1.8]\n",
            " [7.7 3.8 6.7 2.2]\n",
            " [7.7 2.6 6.9 2.3]\n",
            " [6.  2.2 5.  1.5]\n",
            " [6.9 3.2 5.7 2.3]\n",
            " [5.6 2.8 4.9 2. ]\n",
            " [7.7 2.8 6.7 2. ]\n",
            " [6.3 2.7 4.9 1.8]\n",
            " [6.7 3.3 5.7 2.1]\n",
            " [7.2 3.2 6.  1.8]\n",
            " [6.2 2.8 4.8 1.8]\n",
            " [6.1 3.  4.9 1.8]\n",
            " [6.4 2.8 5.6 2.1]\n",
            " [7.2 3.  5.8 1.6]\n",
            " [7.4 2.8 6.1 1.9]\n",
            " [7.9 3.8 6.4 2. ]\n",
            " [6.4 2.8 5.6 2.2]\n",
            " [6.3 2.8 5.1 1.5]\n",
            " [6.1 2.6 5.6 1.4]\n",
            " [7.7 3.  6.1 2.3]\n",
            " [6.3 3.4 5.6 2.4]\n",
            " [6.4 3.1 5.5 1.8]\n",
            " [6.  3.  4.8 1.8]\n",
            " [6.9 3.1 5.4 2.1]\n",
            " [6.7 3.1 5.6 2.4]\n",
            " [6.9 3.1 5.1 2.3]\n",
            " [5.8 2.7 5.1 1.9]\n",
            " [6.8 3.2 5.9 2.3]\n",
            " [6.7 3.3 5.7 2.5]\n",
            " [6.7 3.  5.2 2.3]\n",
            " [6.3 2.5 5.  1.9]\n",
            " [6.5 3.  5.2 2. ]\n",
            " [6.2 3.4 5.4 2.3]\n",
            " [5.9 3.  5.1 1.8]]\n"
          ],
          "name": "stdout"
        }
      ]
    },
    {
      "cell_type": "markdown",
      "metadata": {
        "colab_type": "text",
        "id": "iXLKoSXqOAq3"
      },
      "source": [
        "Find the mean and the variance of all the columns using methods from the NumPy module.\n",
        "\n",
        "You will find both mean and variance as two ```ndarrays```, each containing four values for the four columns."
      ]
    },
    {
      "cell_type": "code",
      "metadata": {
        "colab_type": "code",
        "id": "wlDLUKMVfSgB",
        "colab": {
          "base_uri": "https://localhost:8080/",
          "height": 88
        },
        "outputId": "7bf382f0-8afb-4c0d-f545-faeabe1ccea6"
      },
      "source": [
        "mean = np.mean(data , 0)#Find the mean\n",
        "variance = np.var(data,0) #Find the variance \n",
        "print(\"Mean:\",mean)\n",
        "print(\"Variance\",variance)\n",
        "\n",
        "'''\n",
        "The expected output of this cell is -\n",
        "Mean: [5.84333333 3.05733333 3.758      1.19933333]\n",
        "Variance [0.68112222 0.18871289 3.09550267 0.57713289]\n",
        "'''"
      ],
      "execution_count": null,
      "outputs": [
        {
          "output_type": "stream",
          "text": [
            "Mean: [5.84333333 3.05733333 3.758      1.19933333]\n",
            "Variance [0.68112222 0.18871289 3.09550267 0.57713289]\n"
          ],
          "name": "stdout"
        },
        {
          "output_type": "execute_result",
          "data": {
            "text/plain": [
              "'\\nThe expected output of this cell is -\\nMean: [5.84333333 3.05733333 3.758      1.19933333]\\nVariance [0.68112222 0.18871289 3.09550267 0.57713289]\\n'"
            ]
          },
          "metadata": {
            "tags": []
          },
          "execution_count": 14
        }
      ]
    },
    {
      "cell_type": "markdown",
      "metadata": {
        "colab_type": "text",
        "id": "lwvw-yExfYgp"
      },
      "source": [
        "# Find the covariance matrix\n",
        "\n",
        "The sliced data (i.e. the 2D ndarray obtained after removing the first row and last column) can be imagined as a matrix. Find the covariance matrix of the sliced data using methods available in the NumPy module -\n",
        "\n",
        "WARNING: You may need to transpose the matrix before you can apply the required method. (The ```.T``` argument gives the transpose of a ```ndarray``` matrix. So, ```data.T``` will give the transpose of ```data```.)"
      ]
    },
    {
      "cell_type": "code",
      "metadata": {
        "colab_type": "code",
        "id": "AF85XFG2i_h2",
        "colab": {
          "base_uri": "https://localhost:8080/",
          "height": 139
        },
        "outputId": "a75fc723-44dd-4103-cb48-1b9b9782071d"
      },
      "source": [
        "data = data.T\n",
        "cov = np.cov(data) #Find the covariance matrix\n",
        "print(\"Covariance Matrix\")\n",
        "print(cov)\n",
        "'''\n",
        "The expected output of this cell is -\n",
        "[[ 0.68569351 -0.042434    1.27431544  0.51627069]\n",
        " [-0.042434    0.18997942 -0.32965638 -0.12163937]\n",
        " [ 1.27431544 -0.32965638  3.11627785  1.2956094 ]\n",
        " [ 0.51627069 -0.12163937  1.2956094   0.58100626]]\n",
        "'''"
      ],
      "execution_count": null,
      "outputs": [
        {
          "output_type": "stream",
          "text": [
            "Covariance Matrix\n",
            "[[ 0.68569351 -0.042434    1.27431544  0.51627069]\n",
            " [-0.042434    0.18997942 -0.32965638 -0.12163937]\n",
            " [ 1.27431544 -0.32965638  3.11627785  1.2956094 ]\n",
            " [ 0.51627069 -0.12163937  1.2956094   0.58100626]]\n"
          ],
          "name": "stdout"
        },
        {
          "output_type": "execute_result",
          "data": {
            "text/plain": [
              "'\\nThe expected output of this cell is -\\n[[ 0.68569351 -0.042434    1.27431544  0.51627069]\\n [-0.042434    0.18997942 -0.32965638 -0.12163937]\\n [ 1.27431544 -0.32965638  3.11627785  1.2956094 ]\\n [ 0.51627069 -0.12163937  1.2956094   0.58100626]]\\n'"
            ]
          },
          "metadata": {
            "tags": []
          },
          "execution_count": 15
        }
      ]
    },
    {
      "cell_type": "markdown",
      "metadata": {
        "colab_type": "text",
        "id": "dmyY44t2jyJX"
      },
      "source": [
        "#Find the Eigen values and Eigen Vectors\n",
        "\n",
        "Once you have obtained the covariance matrix in the above step, find the Eigen values and the corresponding Eigen vectors using methods in the NumPy module -"
      ]
    },
    {
      "cell_type": "code",
      "metadata": {
        "colab_type": "code",
        "id": "6kA00EgSkUm-",
        "colab": {
          "base_uri": "https://localhost:8080/",
          "height": 156
        },
        "outputId": "411d70cd-3003-47c7-9544-1633dc601adb"
      },
      "source": [
        "# Write code to find the Eigen values and Eigen vectors here\n",
        "eigen_values = np.linalg.eig(cov)[0]\n",
        "eigen_vectors = np.linalg.eig(cov)[1]\n",
        "print(\"Eigen values:\",eigen_values)\n",
        "print(\"Eigen vectors:\")\n",
        "print(eigen_vectors)\n",
        "'''\n",
        "The expected output of this cell is -\n",
        "-----------------------------------------------------------\n",
        "Eigen values: [4.22824171 0.24267075 0.0782095  0.02383509]\n",
        "Eigen vectors:\n",
        "[[ 0.36138659 -0.65658877 -0.58202985  0.31548719]\n",
        " [-0.08452251 -0.73016143  0.59791083 -0.3197231 ]\n",
        " [ 0.85667061  0.17337266  0.07623608 -0.47983899]\n",
        " [ 0.3582892   0.07548102  0.54583143  0.75365743]]\n",
        "'''"
      ],
      "execution_count": null,
      "outputs": [
        {
          "output_type": "stream",
          "text": [
            "Eigen values: [4.22824171 0.24267075 0.0782095  0.02383509]\n",
            "Eigen vectors:\n",
            "[[ 0.36138659 -0.65658877 -0.58202985  0.31548719]\n",
            " [-0.08452251 -0.73016143  0.59791083 -0.3197231 ]\n",
            " [ 0.85667061  0.17337266  0.07623608 -0.47983899]\n",
            " [ 0.3582892   0.07548102  0.54583143  0.75365743]]\n"
          ],
          "name": "stdout"
        },
        {
          "output_type": "execute_result",
          "data": {
            "text/plain": [
              "'\\nThe expected output of this cell is -\\n-----------------------------------------------------------\\nEigen values: [4.22824171 0.24267075 0.0782095  0.02383509]\\nEigen vectors:\\n[[ 0.36138659 -0.65658877 -0.58202985  0.31548719]\\n [-0.08452251 -0.73016143  0.59791083 -0.3197231 ]\\n [ 0.85667061  0.17337266  0.07623608 -0.47983899]\\n [ 0.3582892   0.07548102  0.54583143  0.75365743]]\\n'"
            ]
          },
          "metadata": {
            "tags": []
          },
          "execution_count": 16
        }
      ]
    },
    {
      "cell_type": "markdown",
      "metadata": {
        "colab_type": "text",
        "id": "hEyALckXkckE"
      },
      "source": [
        "#Sort the Eigen values\n",
        "\n",
        "Once you have found out the Eigen values above, sort them in ascending order.\n",
        "\n",
        "Sort the Eigen vectors in the order in which their associated Eigen values were sorted."
      ]
    },
    {
      "cell_type": "code",
      "metadata": {
        "colab_type": "code",
        "id": "zzR6AIZNt7z1",
        "colab": {
          "base_uri": "https://localhost:8080/",
          "height": 139
        },
        "outputId": "f2990b3a-7ccf-47cd-c9d6-77074eaf401a"
      },
      "source": [
        "# Write code to sort here\n",
        "indices = eigen_values.argsort()[::-1]\n",
        "sorted_eigen_vector = eigen_vectors[:,indices]\n",
        "print(\"Sorted Eigen Vectors:\")\n",
        "print(sorted_eigen_vector)\n",
        "      \n",
        "'''\n",
        "The expected output of this cell is -\n",
        "-----------------------------------------------------------\n",
        "Sorted Eigen Vectors:\n",
        "[[ 0.3582892   0.07548102  0.54583143  0.75365743]\n",
        " [ 0.85667061  0.17337266  0.07623608 -0.47983899]\n",
        " [-0.08452251 -0.73016143  0.59791083 -0.3197231 ]\n",
        " [ 0.36138659 -0.65658877 -0.58202985  0.31548719]\n",
        " ]\n",
        "'''"
      ],
      "execution_count": null,
      "outputs": [
        {
          "output_type": "stream",
          "text": [
            "Sorted Eigen Vectors:\n",
            "[[ 0.36138659 -0.65658877 -0.58202985  0.31548719]\n",
            " [-0.08452251 -0.73016143  0.59791083 -0.3197231 ]\n",
            " [ 0.85667061  0.17337266  0.07623608 -0.47983899]\n",
            " [ 0.3582892   0.07548102  0.54583143  0.75365743]]\n"
          ],
          "name": "stdout"
        },
        {
          "output_type": "execute_result",
          "data": {
            "text/plain": [
              "'\\nThe expected output of this cell is -\\n-----------------------------------------------------------\\nSorted Eigen Vectors:\\n[[ 0.3582892   0.07548102  0.54583143  0.75365743]\\n [ 0.85667061  0.17337266  0.07623608 -0.47983899]\\n [-0.08452251 -0.73016143  0.59791083 -0.3197231 ]\\n [ 0.36138659 -0.65658877 -0.58202985  0.31548719]\\n ]\\n'"
            ]
          },
          "metadata": {
            "tags": []
          },
          "execution_count": 17
        }
      ]
    },
    {
      "cell_type": "markdown",
      "metadata": {
        "colab_type": "text",
        "id": "VjgxeDf_umMB"
      },
      "source": [
        "#Good Job!\n",
        "\n",
        "You have finished coding almost the entirety of the **Principal Component Analysis** (PCA) algorithm, which is a very important algorithm in  Machine Learning. Congratulations!"
      ]
    },
    {
      "cell_type": "code",
      "metadata": {
        "colab_type": "code",
        "id": "n2U1Ky77ry4y",
        "colab": {}
      },
      "source": [
        ""
      ],
      "execution_count": null,
      "outputs": []
    },
    {
      "cell_type": "code",
      "metadata": {
        "id": "246LTordJNTs",
        "colab_type": "code",
        "colab": {}
      },
      "source": [
        ""
      ],
      "execution_count": null,
      "outputs": []
    }
  ]
}