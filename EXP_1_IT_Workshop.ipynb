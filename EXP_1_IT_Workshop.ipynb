{
  "nbformat": 4,
  "nbformat_minor": 0,
  "metadata": {
    "colab": {
      "name": "EXP_1_IT_Workshop.ipynb",
      "provenance": [],
      "collapsed_sections": [],
      "toc_visible": true,
      "include_colab_link": true
    },
    "kernelspec": {
      "display_name": "Python 3",
      "language": "python",
      "name": "python3"
    },
    "language_info": {
      "codemirror_mode": {
        "name": "ipython",
        "version": 3
      },
      "file_extension": ".py",
      "mimetype": "text/x-python",
      "name": "python",
      "nbconvert_exporter": "python",
      "pygments_lexer": "ipython3",
      "version": "3.7.4"
    }
  },
  "cells": [
    {
      "cell_type": "markdown",
      "metadata": {
        "id": "view-in-github",
        "colab_type": "text"
      },
      "source": [
        "<a href=\"https://colab.research.google.com/github/subhasiz/python/blob/master/EXP_1_IT_Workshop.ipynb\" target=\"_parent\"><img src=\"https://colab.research.google.com/assets/colab-badge.svg\" alt=\"Open In Colab\"/></a>"
      ]
    },
    {
      "cell_type": "markdown",
      "metadata": {
        "colab_type": "text",
        "id": "OoS20cJQzyrP"
      },
      "source": [
        "# EXPERIMENT 1 - Read and analyze a file\n",
        "\n",
        "The Iris flower data set or Fisher's Iris data set is a multivariate data set introduced by the British statistician and biologist **Ronald Fisher** in his 1936 paper *The use of multiple measurements in taxonomic problems*.\n",
        "\n",
        "The data set consists of 50 samples from each of three species of Iris (*Iris setosa*, *Iris virginica* and *Iris versicolor*). Four features were measured from each sample: the length and the width of the sepals and petals, in centimeters. Based on the combination of these four features, Fisher developed a machine learning model to distinguish the species from each other.\n",
        "\n",
        "In this experiment, you will download the popular [IRIS dataset](https://gist.githubusercontent.com/netj/8836201/raw/6f9306ad21398ea43cba4f7d537619d0e07d5ae3/iris.csv), and open it using any text editor of your choice. Observe the content of the file.\n",
        "\n",
        "![IRIS data set](https://i0.wp.com/cdn-images-1.medium.com/max/800/1*97TncApFMOeGpXDmtONFAg.png?resize=447%2C177&ssl=1)\n",
        "\n",
        "You will notice that each line of the file has five columns seperated by commas. The first line has strings describing the various columns, and the rest of the lines has the actual values. In this experiment, you will ignore the 5th column. Only the first four columns of the file are of interest to us.\n",
        "\n",
        "All students will individually write a program below, where the column of interest will be specified to you. The program will analyze the specified column, and print its mean, median, mode, variance, and standard deviation.\n",
        "\n",
        "**Students will NOT import any module into their program.**"
      ]
    },
    {
      "cell_type": "code",
      "metadata": {
        "colab_type": "code",
        "id": "FwHo-fHu73O8",
        "colab": {
          "base_uri": "https://localhost:8080/",
          "height": 102
        },
        "outputId": "107eac9a-e3eb-4951-a7fc-5480e2f5c139"
      },
      "source": [
        "\n",
        "column = 1 # The 1st column will be analyzed in this program.\n",
        "# Read the file\n",
        "file = open('iris.csv')\n",
        "lines = file.readlines()\n",
        "lines = lines[1:]\n",
        "\n",
        "# Iterate through each line of the file (ignore the 1st line)\n",
        "# and record the value in the column of our interest\n",
        "counter = 0\n",
        "for line in lines:\n",
        "    li = line.split(',')\n",
        "    li = li[0:4]\n",
        "    for i in range(len(li)):\n",
        "        li[i] = float(li[i])\n",
        "    lines[counter] = li\n",
        "    counter += 1\n",
        "col = []\n",
        "for line in lines:\n",
        "    col.append(line[column-1])\n",
        "\n",
        "    \n",
        "# Find mean of the column  \n",
        "mean = sum(col)/len(col)\n",
        "print(\"Mean\",mean)\n",
        "\n",
        "\n",
        "# Find median of the column\n",
        "col.sort()\n",
        "midpos = len(col)//2\n",
        "median = (col[midpos]+ col[midpos+1])/2\n",
        "print(\"Median\",median)\n",
        "\n",
        "\n",
        "\n",
        "# Find mode of the column\n",
        "counts = {}\n",
        "for i in col:\n",
        "  counts[i] = counts.get(i , 0) + 1\n",
        "mode = 0\n",
        "mode_count = 0\n",
        "for key,value in counts.items():\n",
        "  if value > mode_count:\n",
        "    mode = key\n",
        "\n",
        "print(\"Mode\",mode)\n",
        "\n",
        "\n",
        "# Find variance of the column\n",
        "var = 0\n",
        "for i in col:\n",
        "  var+= (i-mean)**2\n",
        "variance = var/len(col)\n",
        "print(\"Variance\",variance)\n",
        "\n",
        "# Find standard deviation of the column\n",
        "std_deviation = variance**(3/2)\n",
        "print(\"Standard Deviation\",std_deviation)"
      ],
      "execution_count": null,
      "outputs": [
        {
          "output_type": "stream",
          "text": [
            "Mean 5.843333333333335\n",
            "Median 5.8\n",
            "Mode 7.9\n",
            "Variance 0.6811222222222227\n",
            "Standard Deviation 0.5621310498635664\n"
          ],
          "name": "stdout"
        }
      ]
    },
    {
      "cell_type": "code",
      "metadata": {
        "id": "zxuX2V9ACiit",
        "colab_type": "code",
        "colab": {}
      },
      "source": [
        ""
      ],
      "execution_count": null,
      "outputs": []
    }
  ]
}