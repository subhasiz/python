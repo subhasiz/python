{
  "nbformat": 4,
  "nbformat_minor": 0,
  "metadata": {
    "colab": {
      "name": "EXP_3_Calculator_Class.ipynb",
      "provenance": [],
      "collapsed_sections": [],
      "include_colab_link": true
    },
    "kernelspec": {
      "display_name": "Python 3",
      "language": "python",
      "name": "python3"
    },
    "language_info": {
      "codemirror_mode": {
        "name": "ipython",
        "version": 3
      },
      "file_extension": ".py",
      "mimetype": "text/x-python",
      "name": "python",
      "nbconvert_exporter": "python",
      "pygments_lexer": "ipython3",
      "version": "3.7.4"
    }
  },
  "cells": [
    {
      "cell_type": "markdown",
      "metadata": {
        "id": "view-in-github",
        "colab_type": "text"
      },
      "source": [
        "<a href=\"https://colab.research.google.com/github/subhasiz/python/blob/master/EXP_3_Calculator_Class.ipynb\" target=\"_parent\"><img src=\"https://colab.research.google.com/assets/colab-badge.svg\" alt=\"Open In Colab\"/></a>"
      ]
    },
    {
      "cell_type": "markdown",
      "metadata": {
        "colab_type": "text",
        "id": "42xLu3NSfPmP"
      },
      "source": [
        "# Experiment 3.1 - Basic Calculator using object oriented programming\n",
        "\n",
        "In this experiment, the students will create a Calculator class to perform basic arithmetic operations using object oriented paradism.\n",
        "\n",
        "The class should have methods named 'addition', 'subtraction', 'multiplication', 'division', and 'power'. These functions should perform the task as indicated by their names. It should also contain a function, named 'getVal', that would return the current value.\n",
        "\n",
        "The class will be initialized with a number. Each subsequent function class will be passed a number as a parameter, and should return the correct calculated value.\n",
        "\n",
        "Refer the test section below to understand how the class would be used.\n",
        "\n",
        "**Create the class Calculator below** -"
      ]
    },
    {
      "cell_type": "code",
      "metadata": {
        "colab_type": "code",
        "id": "AGA-w9IMfueM",
        "colab": {}
      },
      "source": [
        "class Calculator:\n",
        "    def __init__(self,num):\n",
        "        self.num = num\n",
        "    def addition(self , x):\n",
        "        self.num += x\n",
        "        return(self.num)\n",
        "    def substract(self , x):\n",
        "        self.num -= x\n",
        "        return(self.num)\n",
        "    def multiply(self,x):\n",
        "        self.num *= x\n",
        "        return(self.num)\n",
        "    def division(self,x):\n",
        "        self.num /= x\n",
        "        return(self.num)\n",
        "    def getVal(self):\n",
        "        return(self.num)\n"
      ],
      "execution_count": null,
      "outputs": []
    },
    {
      "cell_type": "markdown",
      "metadata": {
        "colab_type": "text",
        "id": "prUTmXvAfyHO"
      },
      "source": [
        "**Test the Calculator class below** -"
      ]
    },
    {
      "cell_type": "code",
      "metadata": {
        "colab_type": "code",
        "id": "G1gw4t4hf54A",
        "colab": {
          "base_uri": "https://localhost:8080/",
          "height": 85
        },
        "outputId": "348a0584-ef3c-4853-86d9-076dbc2a0f16"
      },
      "source": [
        "c = Calculator(10)\n",
        "print(\"(10 + 5):\",c.addition(5))   \n",
        "print(\"(15 x 3):\",c.multiply(3))  \n",
        "print(\"(45 - 2):\",c.substract(2))  \n",
        "\n",
        "print(\"Current value:\",c.getVal())"
      ],
      "execution_count": null,
      "outputs": [
        {
          "output_type": "stream",
          "text": [
            "(10 + 5): 15\n",
            "(15 x 3): 45\n",
            "(45 - 2): 43\n",
            "Current value: 43\n"
          ],
          "name": "stdout"
        }
      ]
    },
    {
      "cell_type": "markdown",
      "metadata": {
        "colab_type": "text",
        "id": "21Ef25yUilu1"
      },
      "source": [
        "# Experiment 3.2 - Advanced Calculator using Inheritance\n",
        "\n",
        "The students will create a new class 'AdvCalculator'. This class should inherit the Calculator class.\n",
        "\n",
        "One should be able to use derived class exactly like how one used the base Calculator class.\n",
        "\n",
        "This derived class should have two extra functions - 'percentage' and 'modulo'.\n",
        "\n",
        "The 'percentage' function should take a parameter and return\n",
        "> (Current_Value/Parameter)*100\n",
        "\n",
        "The 'getVal' function of the derived class should be overridden and modified to return the current value as a binary **string**.\n",
        "\n",
        "Inherit the Calculator class, and create the AdvCalculator class below -"
      ]
    },
    {
      "cell_type": "code",
      "metadata": {
        "colab_type": "code",
        "id": "10ElQu6inYho",
        "colab": {}
      },
      "source": [
        "class AdvCalculator(Calculator):\n",
        "  def percentage(self, x):\n",
        "    self.num = (self.num/x)*100\n",
        "    return(self.num)\n",
        "  def modulo(self, x):\n",
        "    self.num = int(self.num)%x\n",
        "    return self.num\n",
        "  def getVal(self):\n",
        "    return(\"{0:b}\".format(int(self.num)))"
      ],
      "execution_count": null,
      "outputs": []
    },
    {
      "cell_type": "markdown",
      "metadata": {
        "colab_type": "text",
        "id": "5d0IVMHYnv-d"
      },
      "source": [
        "**Test the AdvCalculator class below** -"
      ]
    },
    {
      "cell_type": "code",
      "metadata": {
        "colab_type": "code",
        "id": "wgl0cl8in1I4",
        "colab": {
          "base_uri": "https://localhost:8080/",
          "height": 85
        },
        "outputId": "2dd432d7-3954-4fb5-b287-f0d60c381429"
      },
      "source": [
        "c = AdvCalculator(10)\n",
        "print(\"(10 + 10):\", c.addition(10))      \n",
        "print(\"((20 / 40) x 100):\", c.percentage(40))    \n",
        "print(\"(50 % 11):\", c.modulo(11))        \n",
        "print(\"The binary representation of 6:\", c.getVal())"
      ],
      "execution_count": null,
      "outputs": [
        {
          "output_type": "stream",
          "text": [
            "(10 + 10): 20\n",
            "((20 / 40) x 100): 50.0\n",
            "(50 % 11): 6\n",
            "The binary representation of 6: 110\n"
          ],
          "name": "stdout"
        }
      ]
    },
    {
      "cell_type": "markdown",
      "metadata": {
        "colab_type": "text",
        "id": "_lngns3qpi2g"
      },
      "source": [
        "**EXTRA MARKS - Write appropriate documentations for the above class, and its methods.**"
      ]
    },
    {
      "cell_type": "code",
      "metadata": {
        "colab_type": "code",
        "id": "0p3zq3KgVxyF",
        "colab": {}
      },
      "source": [
        "AdvCalculator.__doc__ = \"\"\"TLDR: extends the base class Calculator to provide pecentage, modulo operation\n",
        "                            and getVal is redefined to get the value in binary form\n",
        "\n",
        "\n",
        "                            This new AdvCAlculator Class inherits the members and methods of the Class Calculator\n",
        "                            and provides us with some additional functionality, Namely calculation of percentage \n",
        "                            given a number. The percentage function takes a single number as an argument and calculates\n",
        "                            the percentage as instructed by the question(divide the stored number with given prameter\n",
        "                            and multiply that with 100. The modulo method takes a single number and gives user the\n",
        "                            ability to get the remainder when the stored number is divided by that new number.\n",
        "\n",
        "                            The getValue method is redefined in the new class to return the stored value in binary format.\n",
        "                            ------------------------------------------------------------\n",
        "                              \n",
        "                              let's assume the current stored value of calculator object 'obj' is 15\n",
        "\n",
        "                              the percentage methode -\n",
        "\n",
        "                              percentage(x) => (value/x)*100\n",
        "                              thus if we call-\n",
        "                              obj.percentage(30)\n",
        "                              the value of stored number in obj becomes-\n",
        "                              (15/30)*100 i.e. 50.0\n",
        "\n",
        "\n",
        "                              the modulo method - \n",
        "\n",
        "                              modulo(x)  => value%x\n",
        "                              thus if we call-\n",
        "                              obj.modulo(11)\n",
        "                              the value of stored number in obj becomes-\n",
        "                              (50%11) i.e. 6\n",
        "                              \n",
        "                              Notice that the stored number was changed from 15 to 50.0 by \n",
        "                              the call of percentage method.\n",
        "\n",
        "                              here in the modulo operation we took the number 50.0 in integer form \n",
        "                              and got the remainder when it is divided by 11\n",
        "\n",
        "                              \n",
        "                              \n",
        "                              \n",
        "                              \"\"\""
      ],
      "execution_count": null,
      "outputs": []
    },
    {
      "cell_type": "code",
      "metadata": {
        "colab_type": "code",
        "id": "sgbf_11Pph4H",
        "colab": {
          "base_uri": "https://localhost:8080/",
          "height": 1000
        },
        "outputId": "3ab776e0-76d5-4336-ac15-08f89af02ebf"
      },
      "source": [
        "print(help(c))"
      ],
      "execution_count": null,
      "outputs": [
        {
          "output_type": "stream",
          "text": [
            "Help on AdvCalculator in module __main__ object:\n",
            "\n",
            "class AdvCalculator(Calculator)\n",
            " |  TLDR: extends the base class Calculator to provide pecentage, modulo operation\n",
            " |  and getVal is redefined to get the value in binary form\n",
            " |  \n",
            " |  \n",
            " |  This new AdvCAlculator Class inherits the members and methods of the Class Calculator\n",
            " |  and provides us with some additional functionality, Namely calculation of percentage \n",
            " |  given a number. The percentage function takes a single number as an argument and calculates\n",
            " |  the percentage as instructed by the question(divide the stored number with given prameter\n",
            " |  and multiply that with 100. The modulo method takes a single number and gives user the\n",
            " |  ability to get the remainder when the stored number is divided by that new number.\n",
            " |  \n",
            " |  The getValue method is redefined in the new class to return the stored value in binary format.\n",
            " |  ------------------------------------------------------------\n",
            " |    \n",
            " |    let's assume the current stored value of calculator object 'obj' is 15\n",
            " |  \n",
            " |    the percentage methode -\n",
            " |  \n",
            " |    percentage(x) => (value/x)*100\n",
            " |    thus if we call-\n",
            " |    obj.percentage(30)\n",
            " |    the value of stored number in obj becomes-\n",
            " |    (15/30)*100 i.e. 50.0\n",
            " |  \n",
            " |  \n",
            " |    the modulo method - \n",
            " |  \n",
            " |    modulo(x)  => value%x\n",
            " |    thus if we call-\n",
            " |    obj.modulo(11)\n",
            " |    the value of stored number in obj becomes-\n",
            " |    (50%11) i.e. 6\n",
            " |    \n",
            " |    Notice that the stored number was changed from 15 to 50.0 by \n",
            " |    the call of percentage method.\n",
            " |  \n",
            " |    here in the modulo operation we took the number 50.0 in integer form \n",
            " |    and got the remainder when it is divided by 11\n",
            " |  \n",
            " |  Method resolution order:\n",
            " |      AdvCalculator\n",
            " |      Calculator\n",
            " |      builtins.object\n",
            " |  \n",
            " |  Methods defined here:\n",
            " |  \n",
            " |  getVal(self)\n",
            " |  \n",
            " |  modulo(self, x)\n",
            " |  \n",
            " |  percentage(self, x)\n",
            " |  \n",
            " |  ----------------------------------------------------------------------\n",
            " |  Methods inherited from Calculator:\n",
            " |  \n",
            " |  __init__(self, num)\n",
            " |      Initialize self.  See help(type(self)) for accurate signature.\n",
            " |  \n",
            " |  addition(self, x)\n",
            " |  \n",
            " |  division(self, x)\n",
            " |  \n",
            " |  multiply(self, x)\n",
            " |  \n",
            " |  substract(self, x)\n",
            " |  \n",
            " |  ----------------------------------------------------------------------\n",
            " |  Data descriptors inherited from Calculator:\n",
            " |  \n",
            " |  __dict__\n",
            " |      dictionary for instance variables (if defined)\n",
            " |  \n",
            " |  __weakref__\n",
            " |      list of weak references to the object (if defined)\n",
            "\n",
            "None\n"
          ],
          "name": "stdout"
        }
      ]
    },
    {
      "cell_type": "code",
      "metadata": {
        "colab_type": "code",
        "id": "NsnDYLpeV1TL",
        "colab": {}
      },
      "source": [
        ""
      ],
      "execution_count": null,
      "outputs": []
    },
    {
      "cell_type": "code",
      "metadata": {
        "id": "SrAH7oFIE9R-",
        "colab_type": "code",
        "colab": {}
      },
      "source": [
        ""
      ],
      "execution_count": null,
      "outputs": []
    }
  ]
}